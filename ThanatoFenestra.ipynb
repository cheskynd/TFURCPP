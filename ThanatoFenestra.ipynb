{
  "nbformat": 4,
  "nbformat_minor": 0,
  "metadata": {
    "colab": {
      "name": "ThanatoFenestra.ipynb",
      "provenance": [],
      "authorship_tag": "ABX9TyOzl2G2eYoOG1iiVF1L1Si2",
      "include_colab_link": true
    },
    "kernelspec": {
      "name": "python3",
      "display_name": "Python 3"
    },
    "language_info": {
      "name": "python"
    }
  },
  "cells": [
    {
      "cell_type": "markdown",
      "metadata": {
        "id": "view-in-github",
        "colab_type": "text"
      },
      "source": [
        "<a href=\"https://colab.research.google.com/github/cheskynd/TFURCPP/blob/main/ThanatoFenestra.ipynb\" target=\"_parent\"><img src=\"https://colab.research.google.com/assets/colab-badge.svg\" alt=\"Open In Colab\"/></a>"
      ]
    },
    {
      "cell_type": "markdown",
      "source": [
        "Below are the libraries and imports needed to run the program.\n",
        "- CV2 is used to manipulate and display images\n",
        "- os is used to access files in the Operating System\n",
        "- sdfs\n",
        "- Random is used to get random photo addresses\n",
        "- import \"MCP3008\" from \"gpiozero\" is used to set which pins to get data from through the MCP3008 digital to analog convertor\n",
        "- import \"get_monitors\" from \"screeninfo\" is used to get information about the monitors connected to the computer and then in this specific program its used to get the width and height of the screen.\n",
        "- numpy is used move images across the x and y axis in this program.\n",
        "\n"
      ],
      "metadata": {
        "id": "7guvn9eF7sKJ"
      }
    },
    {
      "cell_type": "code",
      "source": [
        "import cv2 as cv\n",
        "import glob\n",
        "import os\n",
        "import random\n",
        "import numpy as np\n",
        "from gpiozero import MCP3008\n",
        "from screeninfo import get_monitors"
      ],
      "metadata": {
        "id": "zxzKiv3x7ezq"
      },
      "execution_count": null,
      "outputs": []
    },
    {
      "cell_type": "markdown",
      "source": [
        "The block below creates a full screen window.\n",
        "\n",
        "The display's width is saved in the with variable by using get_monitors()[0], index zero indicates that only the information for the monitors is needed.  If more than one monitors is used, you could change the index for example:\n",
        "```\n",
        "width = get_monitors()[1].width\n",
        "```\n",
        "would get the width for a second monitor connected to the computer.\n",
        "\n",
        "\n"
      ],
      "metadata": {
        "id": "Vcctn-o6_02C"
      }
    },
    {
      "cell_type": "code",
      "source": [
        "cv.namedWindow(\"window\", cv.WND_PROP_FULLSCREEN)\n",
        "cv.setWindowProperty(\"window\", cv.WND_PROP_FULLSCREEN, cv.WINDOW_FULLSCREEN)\n",
        "width = get_monitors()[0].width\n",
        "height = get_monitors()[0].height"
      ],
      "metadata": {
        "id": "j1RIfiKz_yTM"
      },
      "execution_count": null,
      "outputs": []
    },
    {
      "cell_type": "markdown",
      "source": [
        "Here, we are setting which pins on the MCP3008 are being used.\n",
        "* The first pin identifed by \"MCP3008(0)\" is used by the temperature sensor\n",
        "* The second pin identified by \"MCP3008(1)\" is used by the first light sensor\n",
        "* The third pin identified by \"MCP3008(2)\" is used by the second light sensor\n"
      ],
      "metadata": {
        "id": "birLqV0hE8F0"
      }
    },
    {
      "cell_type": "code",
      "source": [
        "tempSens = MCP3008(0)\n",
        "light_sens1 = MCP3008(2)\n",
        "light_sens2 = MCP3008(1)"
      ],
      "metadata": {
        "id": "juqk8ziWGd_t"
      },
      "execution_count": null,
      "outputs": []
    },
    {
      "cell_type": "markdown",
      "source": [
        "The get_photo function below gets a photo address from the computer, saves it in the img variable by using \"cv,imread(photo_ad)\" to read the photo. It overwrites the img variable with a resized img and then returns the resized img."
      ],
      "metadata": {
        "id": "iodVxXtCH5e-"
      }
    },
    {
      "cell_type": "code",
      "source": [
        "def get_photo(photo_ad):\n",
        "    \"\"\"\n",
        "    Gets photo and resizes and returns the resized photo.\n",
        "    :param photo_ad: Image address as a string\n",
        "    :return: Resized Photo\n",
        "    \"\"\"\n",
        "    img = cv.imread(photo_ad)\n",
        "    img = cv.resize(img, (width, height))\n",
        "    return img"
      ],
      "metadata": {
        "id": "KUB-cSITIeBi"
      },
      "execution_count": null,
      "outputs": []
    },
    {
      "cell_type": "markdown",
      "source": [
        "The translate function below takes in an image and shift its across the screen. The img parameter  and two cordinates(x and y). The x coordinate tells the function "
      ],
      "metadata": {
        "id": "KGFTVG7vKObh"
      }
    },
    {
      "cell_type": "code",
      "source": [
        "def translate(img, x=0, y=0):\n",
        "    \"\"\"\n",
        "    This function translates an image by moving it on the X or Y-Axis\n",
        "    :param img: Image to be translated\n",
        "    :param x: Value to move image across the X-axis\n",
        "    :param y: Value to move image across the Y-axis\n",
        "    :return: The translated image\n",
        "    \"\"\"\n",
        "    transMat = np.float32([[1, 0, x], [0, 1, y]])\n",
        "    dimensions = (img.shape[1], img.shape[0])\n",
        "    return cv.warpAffine(img, transMat, dimensions)"
      ],
      "metadata": {
        "id": "PkoG3H-bKPJa"
      },
      "execution_count": null,
      "outputs": []
    }
  ]
}