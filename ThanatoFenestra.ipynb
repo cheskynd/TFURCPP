{
  "nbformat": 4,
  "nbformat_minor": 0,
  "metadata": {
    "colab": {
      "name": "ThanatoFenestra.ipynb",
      "provenance": [],
      "authorship_tag": "ABX9TyMQEvc4ua6Sgxvyftd7okNE",
      "include_colab_link": true
    },
    "kernelspec": {
      "name": "python3",
      "display_name": "Python 3"
    },
    "language_info": {
      "name": "python"
    }
  },
  "cells": [
    {
      "cell_type": "markdown",
      "metadata": {
        "id": "view-in-github",
        "colab_type": "text"
      },
      "source": [
        "<a href=\"https://colab.research.google.com/github/cheskynd/TFURCPP/blob/main/ThanatoFenestra.ipynb\" target=\"_parent\"><img src=\"https://colab.research.google.com/assets/colab-badge.svg\" alt=\"Open In Colab\"/></a>"
      ]
    },
    {
      "cell_type": "markdown",
      "source": [
        "# **ThanatoFenestra**\n",
        "\n",
        "---\n",
        "**In this Notebook, You will be guided through the program that powers the ThanatoFenestra Altar.** "
      ],
      "metadata": {
        "id": "lMf-kML7tTWZ"
      }
    },
    {
      "cell_type": "markdown",
      "source": [
        "**For this notebook to work, A completed circuit that uses a Raspberry pi as the Microcontroller is required. Also, the required libraries must be installed on the Raspberry Pi.**\n",
        "\n",
        "**If you do not have a circuit, click [here](https://docs.google.com/presentation/d/19ZnFAh5yts9XgJ08IMe_UG5gRqYu8efAYSAV-OgQSvA/edit?usp=sharing) for the circuit tutorial.**\n",
        "\n",
        "* **Use Jupyter Notebook**\n"
      ],
      "metadata": {
        "id": "IOo21_ZSCBRe"
      }
    },
    {
      "cell_type": "markdown",
      "source": [
        "Below are the libraries and imports needed to run the program.\n",
        "- CV2 is used to manipulate and display images\n",
        "- os is used to access files in the Operating System\n",
        "- Random is used to get random photo addresses\n",
        "- import \"MCP3008\" from \"gpiozero\" is used to set which pins to get data from through the MCP3008 digital to analog convertor\n",
        "- import \"get_monitors\" from \"screeninfo\" is used to get information about the monitors connected to the computer and then in this specific program its used to get the width and height of the screen.\n",
        "- numpy is used move images across the x and y axis in this program.\n",
        "\n"
      ],
      "metadata": {
        "id": "7guvn9eF7sKJ"
      }
    },
    {
      "cell_type": "code",
      "source": [
        "import cv2 as cv\n",
        "import glob\n",
        "import os\n",
        "import random\n",
        "import numpy as np\n",
        "from gpiozero import MCP3008\n",
        "from screeninfo import get_monitors"
      ],
      "metadata": {
        "id": "zxzKiv3x7ezq"
      },
      "execution_count": null,
      "outputs": []
    },
    {
      "cell_type": "markdown",
      "source": [
        "The block below creates a full screen window.\n",
        "\n",
        "The display's width is saved in the with variable by using get_monitors()[0], index zero indicates that only the information for the monitors is needed.  If more than one monitors is used, you could change the index for example:\n",
        "```\n",
        "width = get_monitors()[1].width\n",
        "```\n",
        "would get the width for a second monitor connected to the computer.\n",
        "\n",
        "\n"
      ],
      "metadata": {
        "id": "Vcctn-o6_02C"
      }
    },
    {
      "cell_type": "code",
      "source": [
        "cv.namedWindow(\"window\", cv.WND_PROP_FULLSCREEN)\n",
        "cv.setWindowProperty(\"window\", cv.WND_PROP_FULLSCREEN, cv.WINDOW_FULLSCREEN)\n",
        "width = get_monitors()[0].width\n",
        "height = get_monitors()[0].height"
      ],
      "metadata": {
        "id": "j1RIfiKz_yTM"
      },
      "execution_count": null,
      "outputs": []
    },
    {
      "cell_type": "markdown",
      "source": [
        "Here, we are setting which pins on the MCP3008 are being used.\n",
        "* The first pin identifed by \"MCP3008(0)\" is used by the temperature sensor\n",
        "* The second pin identified by \"MCP3008(1)\" is used by the first light sensor\n",
        "* The third pin identified by \"MCP3008(2)\" is used by the second light sensor\n"
      ],
      "metadata": {
        "id": "birLqV0hE8F0"
      }
    },
    {
      "cell_type": "code",
      "source": [
        "tempSens = MCP3008(0)\n",
        "light_sens1 = MCP3008(2)\n",
        "light_sens2 = MCP3008(1)"
      ],
      "metadata": {
        "id": "juqk8ziWGd_t"
      },
      "execution_count": null,
      "outputs": []
    },
    {
      "cell_type": "markdown",
      "source": [
        "The get_photo function below gets a photo address from the computer, saves it in the img variable by using \"cv,imread(photo_ad)\" to read the photo. It overwrites the img variable with a resized img and then returns the resized img."
      ],
      "metadata": {
        "id": "iodVxXtCH5e-"
      }
    },
    {
      "cell_type": "code",
      "source": [
        "def get_photo(photo_ad):\n",
        "    \"\"\"\n",
        "    Gets photo and resizes and returns the resized photo.\n",
        "    :param photo_ad: Image address as a string\n",
        "    :return: Resized Photo\n",
        "    \"\"\"\n",
        "    img = cv.imread(photo_ad)\n",
        "    img = cv.resize(img, (width, height))\n",
        "    return img"
      ],
      "metadata": {
        "id": "KUB-cSITIeBi"
      },
      "execution_count": null,
      "outputs": []
    },
    {
      "cell_type": "markdown",
      "source": [
        "The translate function below takes in an image and shift its across the screen. The img parameter is the image being translated. The X coordiante tell the function what point to shift to on the X-axis. The Y coordinate tells the function what point to shift to on the Y-axis."
      ],
      "metadata": {
        "id": "KGFTVG7vKObh"
      }
    },
    {
      "cell_type": "code",
      "source": [
        "def translate(img, x=0, y=0):\n",
        "    \"\"\"\n",
        "    This function translates an image by moving it on the X or Y-Axis\n",
        "    :param img: Image to be translated\n",
        "    :param x: Value to move image across the X-axis\n",
        "    :param y: Value to move image across the Y-axis\n",
        "    :return: The translated image\n",
        "    \"\"\"\n",
        "    transMat = np.float32([[1, 0, x], [0, 1, y]])\n",
        "    dimensions = (img.shape[1], img.shape[0])\n",
        "    return cv.warpAffine(img, transMat, dimensions)"
      ],
      "metadata": {
        "id": "PkoG3H-bKPJa"
      },
      "execution_count": null,
      "outputs": []
    },
    {
      "cell_type": "markdown",
      "source": [
        "This function creates an overlay img. It is used to manipulate the transparency of an image. The img parameter is the img to be manipulated.\n",
        "the alpha is the transparancy level of the overlay which takes in a value between 0.0 to 1.0. The higher the alpha value the darker the img gets. the overlay_width and overlay_height are to set the dimension of the overlay."
      ],
      "metadata": {
        "id": "Fu8ImpgWQIDC"
      }
    },
    {
      "cell_type": "code",
      "source": [
        "def overlay(img, alpha, overlay_width, overlay_height):\n",
        "    \"\"\"\n",
        "    This function modifies the transparency of an image\n",
        "    :param img: Image used to add transparency\n",
        "    :param alpha: transparency level of the overlay\n",
        "    :param overlay_width: The width of the overlay\n",
        "    :param overlay_height:The height of the overlay\n",
        "    :return: An overlaid image\n",
        "    \"\"\"\n",
        "    overlay = img.copy()\n",
        "    output = img.copy()\n",
        "    cv.rectangle(overlay, (0, 0), (overlay_width, overlay_height), (0, 0, 0), -1)\n",
        "    cv.addWeighted(overlay, alpha, img, 1 - alpha, 0, output)\n",
        "    return output"
      ],
      "metadata": {
        "id": "xg0oGYmzQJKX"
      },
      "execution_count": null,
      "outputs": []
    },
    {
      "cell_type": "markdown",
      "source": [
        "This function show the translated image. This was created to reduce code redunducy."
      ],
      "metadata": {
        "id": "ja50m19qRiUE"
      }
    },
    {
      "cell_type": "code",
      "source": [
        "def show_translated_img():\n",
        "    \"\"\"\n",
        "    This functions shows the translated image\n",
        "    :return: None\n",
        "    \"\"\"\n",
        "    translated_photo = translate(photo, rightSens_Var, leftSens_Var)\n",
        "    cv.imshow('window', translated_photo)\n",
        "    cv.waitKey(50)\n"
      ],
      "metadata": {
        "id": "fmYdF7xpRiuY"
      },
      "execution_count": null,
      "outputs": []
    },
    {
      "cell_type": "markdown",
      "source": [
        "Below is the main block where everything is applied.\n",
        "One important key is the path variable. This must be changed to specify where the images will be referenced from. \n",
        "\n",
        "> ***To avoid errors, make sure the path address only contains images.***\n",
        "\n",
        "\n",
        "---\n",
        "\n",
        "The alphas dictionary has temperature values to the left and alpha values to the right. These values are used when the flame is blown, as the tempertaure decreses. The program will reference this dictionary to get the alpha value to apply to the overlay.\n",
        "\n",
        "---\n",
        "\"initial_sens_val1\" and \"initial_sens_val2\" are variables that save the initial or first readings from the light sensors. The purpose of these variables is to get the ambient lighting level in the setting that the altar is placed. \n"
      ],
      "metadata": {
        "id": "ms5HZhuaUrYJ"
      }
    },
    {
      "cell_type": "code",
      "source": [
        "if __name__ == '__main__':\n",
        "    # get_photo things\n",
        "    path = \"/home/pi/Desktop/TFURCPP-main/ThanatoPics\"  # This is a folder with the images that are used in this program.\n",
        "    filenames = glob.glob(os.path.join(path, \"*\"))\n",
        "\n",
        "    photo = get_photo(filenames[random.randint(0, len(filenames) - 1)])\n",
        "\n",
        "    # The alpha values below are used to set the transparency level of the images\n",
        "    # The Key is the temperature and the Value is the alpha value\n",
        "    alphas = {70: 0,\n",
        "              69: .1,\n",
        "              68: 0.2,\n",
        "              67: 0.3,\n",
        "              66: 0.4,\n",
        "              65: 0.5,\n",
        "              64: 0.6,\n",
        "              63: 0.7,\n",
        "              62: 0.8,\n",
        "              61: 0.9,\n",
        "              60: 1.0}\n",
        "    # These are the initial sensor values\n",
        "    initial_sens_val1 = light_sens1.value * 1000\n",
        "    initial_sens_val2 = light_sens2.value * 1000"
      ],
      "metadata": {
        "id": "z3oZWc6nWuXm"
      },
      "execution_count": null,
      "outputs": []
    },
    {
      "cell_type": "markdown",
      "source": [
        "The block below activates the while loop which continuesly gets the values from our sensors and scales them to be used later."
      ],
      "metadata": {
        "id": "bnsaMqNubNPF"
      }
    },
    {
      "cell_type": "code",
      "source": [
        "    while True:\n",
        "        # All sensor values are scaled by 1000\n",
        "        light_sens1_val = light_sens1.value * 1000\n",
        "        light_sens2_val = light_sens2.value * 1000\n",
        "        temp_value = (((((tempSens.value * 1000) / 1024) * 5) - 0.5) * 100)\n",
        "\n",
        "        translated_photo = translate(photo)\n",
        "        \n",
        "        print('\\n',initial_sens_val1,initial_sens_val2,'\\n')\n",
        "        print(temp_value,light_sens1_val, light_sens2_val)"
      ],
      "metadata": {
        "id": "mkRjr1LHXlnD"
      },
      "execution_count": null,
      "outputs": []
    },
    {
      "cell_type": "markdown",
      "source": [
        "Here we set a temperature of 70 celcius as the minimum at which images could be displayed.\n",
        "Images are minipulated in intervals.\n",
        "* If the light sensors detects a value thats greater than the initail value by a difference of 20 then it will display an image\n",
        "* if the difference is 130 or greater than the images will shift either up/down or left/right depending on the sensor.\n",
        "* If the value is 200 or greater than the program will change the image."
      ],
      "metadata": {
        "id": "v1UbEVkRqkQy"
      }
    },
    {
      "cell_type": "code",
      "source": [
        "        if temp_value > 70:\n",
        "\n",
        "            # Display an image if light_sens1_val and light_sens2_val are equal of greater that then start_val\n",
        "            if light_sens1_val > initial_sens_val1+20 or light_sens1_val > initial_sens_val2+20:\n",
        "                # Displays window and image.\n",
        "                cv.imshow('window', translated_photo)\n",
        "                cv.waitKey(50)\n",
        "\n",
        "            # flicker the image on the X-axis if light_sens1_val is between the flicker_val and change_img_val\n",
        "            if light_sens1_val > initial_sens_val1 + 130:\n",
        "                leftSens_Var = 0\n",
        "                rightSens_Var = random.randint(-17, 17)\n",
        "                show_translated_img()\n",
        "\n",
        "            # flicker the image on the Y-axis if light_sens2_val is between the flicker_val and change_img_val\n",
        "            if light_sens2_val > initial_sens_val2 + 130:\n",
        "                rightSens_Var = 0\n",
        "                leftSens_Var = random.randint(-17, 17)\n",
        "                show_translated_img()\n",
        "\n",
        "            # change the image if the light sensor values are above the change_img_val value\n",
        "            if light_sens1_val > initial_sens_val1 + 200 or light_sens2_val > initial_sens_val2+ 200:\n",
        "                photo = get_photo(filenames[random.randint(0, len(filenames) - 1)])\n",
        "                cv.imshow('window', translated_photo)\n",
        "                cv.waitKey(10)"
      ],
      "metadata": {
        "id": "RBPxz9zZXpCE"
      },
      "execution_count": null,
      "outputs": []
    },
    {
      "cell_type": "markdown",
      "source": [
        "Here if the temperature is greater than 70 degrees celcius and the candle is blown or the sensor values are within a range of 30 compared to the initial sensor value, than the program iterates through images until the temperature falls below 70 degrees."
      ],
      "metadata": {
        "id": "jOm9awQp0ZY4"
      }
    },
    {
      "cell_type": "code",
      "source": [
        "        # This will iterate through the Images once the candle is turned off without any overlay\n",
        "        if temp_value > 70 and light_sens1_val < initial_sens_val1+30 and light_sens2_val < initial_sens_val2+30:\n",
        "            photo = get_photo(filenames[random.randint(0, len(filenames) - 1)])\n",
        "            cv.imshow('window', translated_photo)\n",
        "            cv.waitKey(10)"
      ],
      "metadata": {
        "id": "9T2VlnthXvP6"
      },
      "execution_count": null,
      "outputs": []
    },
    {
      "cell_type": "markdown",
      "source": [
        "This block acts like the block above with the difference being that once the temperature falls to 70 or below but above 60 transparency will kick in."
      ],
      "metadata": {
        "id": "fgOhD4yGY3bC"
      }
    },
    {
      "cell_type": "code",
      "source": [
        "        # This will iterate through the Images once the candle is turned off with overlay as long as the temperature\n",
        "        # is between 55 and 60\n",
        "        if 60 < temp_value < 70 and initial_sens_val1+30 > light_sens1_val and initial_sens_val2+30 > light_sens2_val:\n",
        "            int_temp_value = int(temp_value)  # coverts temperature to integer value\n",
        "            photo = get_photo(filenames[random.randint(0, len(filenames) - 1)])\n",
        "            overlaid = overlay(translated_photo, alphas[int_temp_value], overlay_width=width, overlay_height=height)\n",
        "            cv.imshow('window', overlaid)\n",
        "            cv.waitKey(10)"
      ],
      "metadata": {
        "id": "MB3hEaRsX1K_"
      },
      "execution_count": null,
      "outputs": []
    },
    {
      "cell_type": "markdown",
      "source": [
        "In the code block below we set a value a 60 as the temperature at which the screen will display a dark overlay img. If the temp_value is higher than 60 then the image will be visible."
      ],
      "metadata": {
        "id": "aB2sB2jPYRVd"
      }
    },
    {
      "cell_type": "code",
      "source": [
        "        # If the temperature value is below 60: a black screen will be shown\n",
        "        if temp_value < 60:\n",
        "            overlaid = overlay(translated_photo, 1, overlay_width=width, overlay_height=height)\n",
        "            cv.imshow('window', overlaid)\n",
        "            cv.waitKey(10)"
      ],
      "metadata": {
        "id": "BnupJ31cX469"
      },
      "execution_count": null,
      "outputs": []
    }
  ]
}
